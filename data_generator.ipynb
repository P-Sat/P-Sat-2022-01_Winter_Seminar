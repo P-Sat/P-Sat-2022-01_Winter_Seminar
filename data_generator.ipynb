{
 "cells": [
  {
   "cell_type": "code",
   "execution_count": 1,
   "id": "d86fd988",
   "metadata": {},
   "outputs": [
    {
     "name": "stderr",
     "output_type": "stream",
     "text": [
      "C:\\Users\\victolee\\anaconda3\\lib\\site-packages\\numpy\\_distributor_init.py:30: UserWarning: loaded more than 1 DLL from .libs:\n",
      "C:\\Users\\victolee\\anaconda3\\lib\\site-packages\\numpy\\.libs\\libopenblas.GK7GX5KEQ4F6UYO3P26ULGBQYHGQO7J4.gfortran-win_amd64.dll\n",
      "C:\\Users\\victolee\\anaconda3\\lib\\site-packages\\numpy\\.libs\\libopenblas.NOIJJG62EMASZI6NYURL6JBKM4EVBGM7.gfortran-win_amd64.dll\n",
      "C:\\Users\\victolee\\anaconda3\\lib\\site-packages\\numpy\\.libs\\libopenblas.WCDJNK7YVMPZQ2ME2ZZHJJRJ3JIKNDB7.gfortran-win_amd64.dll\n",
      "  warnings.warn(\"loaded more than 1 DLL from .libs:\"\n"
     ]
    }
   ],
   "source": [
    "import random\n",
    "import pandas as pd\n",
    "import random_name\n",
    "from sklearn.datasets import make_classification\n",
    "from sklearn import preprocessing\n",
    "import numpy as np\n",
    "from sklearn.model_selection import StratifiedKFold\n",
    "from sklearn.metrics import roc_auc_score\n",
    "from sklearn.preprocessing import StandardScaler\n",
    "from sklearn.feature_selection import VarianceThreshold\n",
    "from tqdm import tqdm_notebook\n",
    "\n",
    "from sklearn.discriminant_analysis import QuadraticDiscriminantAnalysis"
   ]
  },
  {
   "cell_type": "markdown",
   "id": "bb589bdf",
   "metadata": {},
   "source": [
    "## 데이터 수 관련 파라미터"
   ]
  },
  {
   "cell_type": "code",
   "execution_count": 2,
   "id": "4f5fcafe",
   "metadata": {},
   "outputs": [],
   "source": [
    "NUM_SUB_DATASETS = 32\n",
    "NUM_SAMPLES = 2048\n",
    "NUM_FEATURES = 255\n",
    "MAX_SEED = 2**32 - 1"
   ]
  },
  {
   "cell_type": "code",
   "execution_count": 3,
   "id": "d5b99b74",
   "metadata": {},
   "outputs": [],
   "source": [
    "def create_dataset(random_seed):\n",
    "    random.seed(3 + random_seed\n",
    "    X,y = make_classification(n_samples=NUM_SAMPLES, \n",
    "                             n_features=NUM_FEATURES, \n",
    "                             n_informative=random.randint(33,47),\n",
    "                             n_redundant=0,\n",
    "                             n_repeated=0,\n",
    "                             n_classes=2,\n",
    "                             n_clusters_per_class=3,\n",
    "                             weights=None,\n",
    "                             flip_y=0.05,\n",
    "                             class_sep=1.0,\n",
    "                             hypercube=True,\n",
    "                             shift=0.0,\n",
    "                             scale=1.0,\n",
    "                             shuffle=True,\n",
    "                             random_state=random_seed)\n",
    "    df = pd.DataFrame(X, columns=['V' + str(x) for x in range(0,len(X[0]))])\n",
    "    df['magic'] = random_seed\n",
    "    df['target'] = y\n",
    "    return df"
   ]
  },
  {
   "cell_type": "code",
   "execution_count": 4,
   "id": "b194651b",
   "metadata": {},
   "outputs": [],
   "source": [
    "seed_list = random.sample(range(1,MAX_SEED), NUM_SUB_DATASETS)\n",
    "df = pd.concat([create_dataset(s) for s in seed_list], axis=0, sort = False).reset_index(drop=True)\n",
    "df = df.sample(frac=1, random_state=9726).reset_index(drop=True)\n",
    "\n",
    "le = preprocessing.LabelEncoder()\n",
    "le.fit(df['magic'])\n",
    "df['magic'] = le.transform(df['magic']) "
   ]
  },
  {
   "cell_type": "code",
   "execution_count": 5,
   "id": "65926ae8",
   "metadata": {},
   "outputs": [],
   "source": [
    "train = df.groupby(['magic']).sample(frac=0.75, random_state=17)\n",
    "test = df.drop(train.index, axis=0)"
   ]
  },
  {
   "cell_type": "code",
   "execution_count": 7,
   "id": "1500b823",
   "metadata": {},
   "outputs": [],
   "source": [
    "train = train.sample(frac=1).reset_index(drop=True)\n",
    "test = test.sample(frac=1).reset_index(drop=True)\n"
   ]
  },
  {
   "cell_type": "code",
   "execution_count": null,
   "id": "0b546e0b",
   "metadata": {},
   "outputs": [],
   "source": [
    "public_test = test.groupby(['magic']).sample(frac=0.5, random_state=17)\n",
    "private_test = test.drop(public_test.index, axis=0)\n",
    "public_test = public_test.sample(frac=1).reset_index(drop=True)\n",
    "private_test = private_test.sample(frac=1).reset_index(drop=True)"
   ]
  },
  {
   "cell_type": "code",
   "execution_count": null,
   "id": "712978ca",
   "metadata": {},
   "outputs": [],
   "source": []
  },
  {
   "cell_type": "code",
   "execution_count": null,
   "id": "73601479",
   "metadata": {},
   "outputs": [],
   "source": []
  },
  {
   "cell_type": "markdown",
   "id": "45996bef",
   "metadata": {},
   "source": [
    "### 모델링 결과 (코드 출처 : https://www.kaggle.com/speedwagon/quadratic-discriminant-analysis"
   ]
  },
  {
   "cell_type": "code",
   "execution_count": 11,
   "id": "f1dbc25c",
   "metadata": {},
   "outputs": [
    {
     "name": "stderr",
     "output_type": "stream",
     "text": [
      "C:\\Users\\victolee\\AppData\\Local\\Temp/ipykernel_3396/4089557962.py:6: TqdmDeprecationWarning: This function will be removed in tqdm==5.0.0\n",
      "Please use `tqdm.notebook.tqdm` instead of `tqdm.tqdm_notebook`\n",
      "  for i in tqdm_notebook(range(NUM_SUB_DATASETS)):\n"
     ]
    },
    {
     "data": {
      "application/vnd.jupyter.widget-view+json": {
       "model_id": "99c80b1c41d348629b888ae4acd105af",
       "version_major": 2,
       "version_minor": 0
      },
      "text/plain": [
       "  0%|          | 0/32 [00:00<?, ?it/s]"
      ]
     },
     "metadata": {},
     "output_type": "display_data"
    },
    {
     "name": "stdout",
     "output_type": "stream",
     "text": [
      "AUC: 0.9709\n"
     ]
    }
   ],
   "source": [
    "cols = [c for c in train.columns if c not in ['id', 'target', 'magic']]\n",
    "\n",
    "oof = np.zeros(len(train))\n",
    "preds = np.zeros(len(test))\n",
    "\n",
    "for i in tqdm_notebook(range(NUM_SUB_DATASETS)):\n",
    "\n",
    "    train2 = train[train['magic']==i]\n",
    "    test2 = test[test['magic']==i]\n",
    "    idx1 = train2.index; idx2 = test2.index\n",
    "    train2.reset_index(drop=True,inplace=True)\n",
    "\n",
    "    data = pd.concat([pd.DataFrame(train2[cols]), pd.DataFrame(test2[cols])])\n",
    "    data2 = VarianceThreshold(threshold=2).fit_transform(data[cols])\n",
    "\n",
    "    train3 = data2[:train2.shape[0]]; test3 = data2[train2.shape[0]:]\n",
    "\n",
    "    skf = StratifiedKFold(n_splits=11, shuffle=True, random_state=42)\n",
    "    for train_index, test_index in skf.split(train2, train2['target']):\n",
    "\n",
    "        clf = QuadraticDiscriminantAnalysis()\n",
    "        clf.fit(train3[train_index,:],train2.loc[train_index]['target'])\n",
    "        oof[idx1[test_index]] = clf.predict_proba(train3[test_index,:])[:,1]\n",
    "        preds[idx2] += clf.predict_proba(test3)[:,1] / skf.n_splits\n",
    "\n",
    "auc = roc_auc_score(train['target'], oof)\n",
    "print(f'AUC: {auc:.5}')"
   ]
  },
  {
   "cell_type": "code",
   "execution_count": 13,
   "id": "ff679a81",
   "metadata": {},
   "outputs": [
    {
     "data": {
      "text/plain": [
       "1    16485\n",
       "0    16283\n",
       "Name: target, dtype: int64"
      ]
     },
     "execution_count": 13,
     "metadata": {},
     "output_type": "execute_result"
    }
   ],
   "source": [
    "train['target'].value_counts()"
   ]
  },
  {
   "cell_type": "code",
   "execution_count": 12,
   "id": "c11d86d9",
   "metadata": {},
   "outputs": [],
   "source": [
    "train.to_csv(\"train.csv\", encoding=\"utf-8\", index=False)"
   ]
  },
  {
   "cell_type": "code",
   "execution_count": 24,
   "id": "43b64638",
   "metadata": {},
   "outputs": [],
   "source": [
    "test.to_csv(\"test.csv\", encoding=\"utf-8\", index=False)"
   ]
  },
  {
   "cell_type": "code",
   "execution_count": 19,
   "id": "7e6ba93a",
   "metadata": {},
   "outputs": [],
   "source": [
    "sample_submission = pd.DataFrame([test['target']]).T"
   ]
  },
  {
   "cell_type": "code",
   "execution_count": 17,
   "id": "acab5540",
   "metadata": {},
   "outputs": [],
   "source": [
    "sample_submission = pd.DataFrame([range(test['target'].shape[0]),test['target']]).T"
   ]
  },
  {
   "cell_type": "code",
   "execution_count": 21,
   "id": "f53c224e",
   "metadata": {},
   "outputs": [],
   "source": [
    "sample_submission.to_csv('answer.csv')"
   ]
  },
  {
   "cell_type": "code",
   "execution_count": 22,
   "id": "605a828a",
   "metadata": {},
   "outputs": [
    {
     "data": {
      "text/html": [
       "<div>\n",
       "<style scoped>\n",
       "    .dataframe tbody tr th:only-of-type {\n",
       "        vertical-align: middle;\n",
       "    }\n",
       "\n",
       "    .dataframe tbody tr th {\n",
       "        vertical-align: top;\n",
       "    }\n",
       "\n",
       "    .dataframe thead th {\n",
       "        text-align: right;\n",
       "    }\n",
       "</style>\n",
       "<table border=\"1\" class=\"dataframe\">\n",
       "  <thead>\n",
       "    <tr style=\"text-align: right;\">\n",
       "      <th></th>\n",
       "      <th>target</th>\n",
       "    </tr>\n",
       "  </thead>\n",
       "  <tbody>\n",
       "    <tr>\n",
       "      <th>0</th>\n",
       "      <td>1</td>\n",
       "    </tr>\n",
       "    <tr>\n",
       "      <th>1</th>\n",
       "      <td>1</td>\n",
       "    </tr>\n",
       "    <tr>\n",
       "      <th>2</th>\n",
       "      <td>1</td>\n",
       "    </tr>\n",
       "    <tr>\n",
       "      <th>3</th>\n",
       "      <td>1</td>\n",
       "    </tr>\n",
       "    <tr>\n",
       "      <th>4</th>\n",
       "      <td>1</td>\n",
       "    </tr>\n",
       "    <tr>\n",
       "      <th>...</th>\n",
       "      <td>...</td>\n",
       "    </tr>\n",
       "    <tr>\n",
       "      <th>16379</th>\n",
       "      <td>1</td>\n",
       "    </tr>\n",
       "    <tr>\n",
       "      <th>16380</th>\n",
       "      <td>1</td>\n",
       "    </tr>\n",
       "    <tr>\n",
       "      <th>16381</th>\n",
       "      <td>1</td>\n",
       "    </tr>\n",
       "    <tr>\n",
       "      <th>16382</th>\n",
       "      <td>1</td>\n",
       "    </tr>\n",
       "    <tr>\n",
       "      <th>16383</th>\n",
       "      <td>1</td>\n",
       "    </tr>\n",
       "  </tbody>\n",
       "</table>\n",
       "<p>16384 rows × 1 columns</p>\n",
       "</div>"
      ],
      "text/plain": [
       "       target\n",
       "0           1\n",
       "1           1\n",
       "2           1\n",
       "3           1\n",
       "4           1\n",
       "...       ...\n",
       "16379       1\n",
       "16380       1\n",
       "16381       1\n",
       "16382       1\n",
       "16383       1\n",
       "\n",
       "[16384 rows x 1 columns]"
      ]
     },
     "execution_count": 22,
     "metadata": {},
     "output_type": "execute_result"
    }
   ],
   "source": [
    "sample_submission['target'] = 1\n",
    "sample_submission"
   ]
  },
  {
   "cell_type": "code",
   "execution_count": 23,
   "id": "d18ef003",
   "metadata": {},
   "outputs": [],
   "source": [
    "sample_submission.to_csv('sample_submission.csv')"
   ]
  },
  {
   "cell_type": "code",
   "execution_count": 14,
   "id": "662b3dd7",
   "metadata": {},
   "outputs": [],
   "source": [
    "\n",
    "public_test.to_csv(\"test.csv\", encoding=\"utf-8\", index=False)\n",
    "private_test.to_csv(\"private.csv\", encoding=\"utf-8\", index=False)"
   ]
  },
  {
   "cell_type": "code",
   "execution_count": null,
   "id": "6ee712e5",
   "metadata": {},
   "outputs": [],
   "source": []
  }
 ],
 "metadata": {
  "kernelspec": {
   "display_name": "Python 3 (ipykernel)",
   "language": "python",
   "name": "python3"
  },
  "language_info": {
   "codemirror_mode": {
    "name": "ipython",
    "version": 3
   },
   "file_extension": ".py",
   "mimetype": "text/x-python",
   "name": "python",
   "nbconvert_exporter": "python",
   "pygments_lexer": "ipython3",
   "version": "3.8.11"
  }
 },
 "nbformat": 4,
 "nbformat_minor": 5
}
